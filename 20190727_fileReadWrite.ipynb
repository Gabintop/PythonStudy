{
 "cells": [
  {
   "cell_type": "code",
   "execution_count": 2,
   "metadata": {},
   "outputs": [
    {
     "name": "stdout",
     "output_type": "stream",
     "text": [
      "190323 challenge.ipynb              Untitled1.ipynb\r\n",
      "190427_pythonStudy.ipynb            ex01_syntax.ipynb\r\n",
      "190511_basic.ipynb                  ex02_syntax.ipynb\r\n",
      "190525_application.ipynb            ex03_data.ipynb\r\n",
      "190608_application.ipynb            ex04_list.ipynb\r\n",
      "190615.ipynb                        ex06_DataTypeListLoop.ipynb\r\n",
      "190720_order.ipynb                  ex07_dict.ipynb\r\n",
      "20190706_condition.ipynb            ex08_알고리즘연습문제.ipynb\r\n",
      "20190713_mission.ipynb              step09_dict.ipynb\r\n",
      "20190727_fileReadWrite.ipynb        \u001b[34m무제 폴더\u001b[m\u001b[m\r\n",
      "Untitled.ipynb\r\n"
     ]
    }
   ],
   "source": [
    "!ls\n"
   ]
  },
  {
   "cell_type": "markdown",
   "metadata": {},
   "source": [
    "이미 존재하는 파일을 read하는 프로그램"
   ]
  },
  {
   "cell_type": "code",
   "execution_count": 6,
   "metadata": {},
   "outputs": [],
   "source": [
    "#data.txt라는 파일을 read하는 함수 : open(\"file명\" , \"r\")\n",
    "file = open(\"data.txt\",\"r\")\n"
   ]
  },
  {
   "cell_type": "code",
   "execution_count": 5,
   "metadata": {},
   "outputs": [
    {
     "name": "stdout",
     "output_type": "stream",
     "text": [
      "<_io.TextIOWrapper name='data.txt' mode='r' encoding='UTF-8'>\n"
     ]
    }
   ],
   "source": [
    "print(file)"
   ]
  },
  {
   "cell_type": "code",
   "execution_count": 8,
   "metadata": {},
   "outputs": [
    {
     "name": "stdout",
     "output_type": "stream",
     "text": [
      "\n"
     ]
    }
   ],
   "source": [
    "print(file.read())\n",
    "file.close()"
   ]
  },
  {
   "cell_type": "code",
   "execution_count": 15,
   "metadata": {},
   "outputs": [],
   "source": [
    "#함수 구현 - parmeter로 file명을 제공\n",
    "def userReadFile(rfile):\n",
    "    file = open(rfile, \"r\",encoding ='UTF-8')\n",
    "    print(file.read())\n",
    "    file.close"
   ]
  },
  {
   "cell_type": "code",
   "execution_count": 16,
   "metadata": {},
   "outputs": [
    {
     "name": "stdout",
     "output_type": "stream",
     "text": [
      "역사인물,이순신,김유신,세종대왕\n",
      "MC,신동엽,이영자\n"
     ]
    }
   ],
   "source": [
    "userReadFile(\"data.txt\")"
   ]
  },
  {
   "cell_type": "code",
   "execution_count": 12,
   "metadata": {},
   "outputs": [],
   "source": [
    "data = \"한기가,오늘은,안오려했는데,어쩌나 당황스럽던지?\""
   ]
  },
  {
   "cell_type": "code",
   "execution_count": 14,
   "metadata": {},
   "outputs": [],
   "source": [
    "#일반 파이썬 변수값으로 data5.txt라는 파일을 생성 및 출력\n",
    "f = open(\"data5.txt\", \"w\",encoding=\"UTF-8\")\n",
    "f.write(data)\n",
    "f.close()"
   ]
  },
  {
   "cell_type": "code",
   "execution_count": null,
   "metadata": {},
   "outputs": [],
   "source": [
    "#? 파일 쓰기 로직을 userFileWriter라는 함수로 개발하기\n",
    "# 호출까지 test하기"
   ]
  },
  {
   "cell_type": "code",
   "execution_count": 70,
   "metadata": {},
   "outputs": [],
   "source": [
    "def userFileWriter(wfile):\n",
    "    f = open(wfile, \"w\",encoding=\"UTF-8\")\n",
    "    f.write(data)\n",
    "    f.close()\n",
    "    "
   ]
  },
  {
   "cell_type": "code",
   "execution_count": 71,
   "metadata": {},
   "outputs": [
    {
     "data": {
      "text/plain": [
       "'한기가,오늘은,안오려했는데,어쩌나 당황스럽던지?'"
      ]
     },
     "execution_count": 71,
     "metadata": {},
     "output_type": "execute_result"
    }
   ],
   "source": [
    "userReadFile(\"hi.txt\")"
   ]
  },
  {
   "cell_type": "code",
   "execution_count": 28,
   "metadata": {},
   "outputs": [],
   "source": [
    "def userReadFile(rfile):\n",
    "    file = open(rfile, \"r\",encoding ='UTF-8')\n",
    "    data = file.read()\n",
    "    f.close()\n",
    "    return data\n",
    "    "
   ]
  },
  {
   "cell_type": "code",
   "execution_count": 29,
   "metadata": {},
   "outputs": [
    {
     "name": "stdout",
     "output_type": "stream",
     "text": [
      "역사인물,이순신,김유신,세종대왕\n",
      "MC,신동엽,이영자\n"
     ]
    }
   ],
   "source": [
    "d = userReadFile(\"data.txt\")\n",
    "print(d)"
   ]
  },
  {
   "cell_type": "code",
   "execution_count": null,
   "metadata": {},
   "outputs": [],
   "source": [
    "'''\n",
    "?\n",
    "d 라는 변수의 데이터를 , 를 구분자로 해서 각 단어를 한 라인씩 출력\n",
    "\n",
    "'''"
   ]
  },
  {
   "cell_type": "code",
   "execution_count": 63,
   "metadata": {},
   "outputs": [],
   "source": [
    "def userReadFile(rfile):\n",
    "    file = open(rfile, \"r\",encoding ='UTF-8')\n",
    "    data = file.read()\n",
    "    f.close()\n",
    "    return data\n",
    "    "
   ]
  },
  {
   "cell_type": "code",
   "execution_count": 64,
   "metadata": {},
   "outputs": [
    {
     "name": "stdout",
     "output_type": "stream",
     "text": [
      "역사인물,이순신,김유신,세종대왕\n",
      "MC,신동엽,이영자\n"
     ]
    }
   ],
   "source": [
    "d = userReadFile(\"data.txt\")\n",
    "d2 = d.split(',')\n",
    "print(d)"
   ]
  },
  {
   "cell_type": "code",
   "execution_count": 65,
   "metadata": {},
   "outputs": [
    {
     "name": "stdout",
     "output_type": "stream",
     "text": [
      "역사인물\n",
      "이순신\n",
      "김유신\n",
      "세종대왕\n",
      "MC\n",
      "신동엽\n",
      "이영자\n"
     ]
    }
   ],
   "source": [
    "for x in d2:\n",
    "    print(x)"
   ]
  }
 ],
 "metadata": {
  "kernelspec": {
   "display_name": "Python 3",
   "language": "python",
   "name": "python3"
  },
  "language_info": {
   "codemirror_mode": {
    "name": "ipython",
    "version": 3
   },
   "file_extension": ".py",
   "mimetype": "text/x-python",
   "name": "python",
   "nbconvert_exporter": "python",
   "pygments_lexer": "ipython3",
   "version": "3.6.5"
  }
 },
 "nbformat": 4,
 "nbformat_minor": 2
}
