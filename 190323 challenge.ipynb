{
 "cells": [
  {
   "cell_type": "markdown",
   "metadata": {},
   "source": [
    "# 2019 03 23 my python challenge"
   ]
  },
  {
   "cell_type": "code",
   "execution_count": 34,
   "metadata": {},
   "outputs": [
    {
     "name": "stdout",
     "output_type": "stream",
     "text": [
      "0.000910321535309784\n"
     ]
    }
   ],
   "source": [
    "#1.\n",
    "x = 52762985728795\n",
    "y = 26\n",
    "z = 1506981407928387935\n",
    "\n",
    "print (x * y / z)"
   ]
  },
  {
   "cell_type": "code",
   "execution_count": 15,
   "metadata": {},
   "outputs": [
    {
     "name": "stdout",
     "output_type": "stream",
     "text": [
      "['For thousands of years, the human race has lived with animals and got lots of things from them.']\n"
     ]
    }
   ],
   "source": [
    "#2.\n",
    "list = [\"For thousands of years, the human race has lived with animals and got lots of things from them\" \".\", \",\"]\n",
    "list.pop(1)\n",
    "print(list)"
   ]
  },
  {
   "cell_type": "code",
   "execution_count": 19,
   "metadata": {},
   "outputs": [
    {
     "name": "stdout",
     "output_type": "stream",
     "text": [
      "Alan Walker is a god\n"
     ]
    }
   ],
   "source": [
    "#3.\n",
    "x = 'Alan Walker'\n",
    "y = ' is'\n",
    "z = ' a god'\n",
    "print(x + y + z)"
   ]
  },
  {
   "cell_type": "code",
   "execution_count": 24,
   "metadata": {},
   "outputs": [
    {
     "name": "stdout",
     "output_type": "stream",
     "text": [
      "your crazy\n"
     ]
    }
   ],
   "source": [
    "#4.\n",
    "if len('Your face is ugly') > len('blablablablablabla'):\n",
    "    print('hardy har har')\n",
    "else: \n",
    "    print('your crazy')"
   ]
  },
  {
   "cell_type": "code",
   "execution_count": 30,
   "metadata": {},
   "outputs": [
    {
     "name": "stdout",
     "output_type": "stream",
     "text": [
      "Our first assertion is ‘Being vegan helps the environment’. One of the most effective things an individual can do to lower carbon foot print is to avoid animal products, since being vegan can reduce 1.5 tons of carbon emissions per year.\n"
     ]
    }
   ],
   "source": [
    "#5. \n",
    "if len('Our first assertion is ‘Being vegan helps the environment’. One of the most effective things an individual can do to lower carbon foot print is to avoid animal products, since being vegan can reduce 1.5 tons of carbon emissions per year. ') < len('lahd'):\n",
    "    print('alhdkjsf')\n",
    "else: \n",
    "    print('Our first assertion is ‘Being vegan helps the environment’. One of the most effective things an individual can do to lower carbon foot print is to avoid animal products, since being vegan can reduce 1.5 tons of carbon emissions per year.')\n"
   ]
  },
  {
   "cell_type": "code",
   "execution_count": 1,
   "metadata": {},
   "outputs": [
    {
     "name": "stdout",
     "output_type": "stream",
     "text": [
      "35\n"
     ]
    }
   ],
   "source": [
    "#6. \n",
    "a = \"안녕, 하세요, ㅋㅋㅋㅋㅋㅋㅋㅋㅋㅋㅋㅋㅋㅋㅋㅋㅋㅋㅋㅋㅋㅋㅋㅋㅋㅋ\"\n",
    "print(len(a))"
   ]
  },
  {
   "cell_type": "code",
   "execution_count": 33,
   "metadata": {},
   "outputs": [
    {
     "name": "stdout",
     "output_type": "stream",
     "text": [
      "87\n"
     ]
    }
   ],
   "source": [
    "#7.\n",
    "a = \"xxxxxxxxxxxxxxxxxxxxxxxxxxxxxxxxxxxxxxxxxxxxxxxxxxxxxxxxxxxxxxxxxxxxxxxxxxxxxxxxxxxxxxx\"\n",
    "print(len(a))"
   ]
  }
 ],
 "metadata": {
  "kernelspec": {
   "display_name": "Python 3",
   "language": "python",
   "name": "python3"
  },
  "language_info": {
   "codemirror_mode": {
    "name": "ipython",
    "version": 3
   },
   "file_extension": ".py",
   "mimetype": "text/x-python",
   "name": "python",
   "nbconvert_exporter": "python",
   "pygments_lexer": "ipython3",
   "version": "3.6.5"
  }
 },
 "nbformat": 4,
 "nbformat_minor": 2
}
