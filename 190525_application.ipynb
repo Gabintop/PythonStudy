{
 "cells": [
  {
   "cell_type": "code",
   "execution_count": 8,
   "metadata": {},
   "outputs": [
    {
     "data": {
      "text/plain": [
       "6"
      ]
     },
     "execution_count": 8,
     "metadata": {},
     "output_type": "execute_result"
    }
   ],
   "source": [
    "def factorial(n):\n",
    "    if n == 0:\n",
    "        return 1\n",
    "    else:\n",
    "        return n * factorial(n-1)\n",
    "factorial(3)"
   ]
  },
  {
   "cell_type": "code",
   "execution_count": null,
   "metadata": {},
   "outputs": [],
   "source": []
  },
  {
   "cell_type": "code",
   "execution_count": null,
   "metadata": {},
   "outputs": [],
   "source": [
    "'''\n",
    "def - 함수 개발\n",
    "return - 값을 다시 호출한 곳으로 돌려줌\n",
    "if - 조건 표현\n",
    "else - if 조건식이 맞지 않을때 실행\n",
    "'''\n",
    "def factorial(n):\n",
    "    if n == 0:\n",
    "        return 1\n",
    "    else:\n",
    "        return n * factorial(n-1)\n",
    "'''\n",
    "3인 경우 : n * factorial(n-1)\n",
    "3 * factorial(3-1)\n",
    "2 * factorial(2-1)\n",
    "1 * factorial(1-1)\n",
    "0 if 0 == 0\n",
    "\n",
    "n이 0 이 되면 끝이 난디\n",
    "'''"
   ]
  },
  {
   "cell_type": "markdown",
   "metadata": {},
   "source": [
    "**중앙값 구하는 단계** "
   ]
  },
  {
   "cell_type": "code",
   "execution_count": 24,
   "metadata": {},
   "outputs": [],
   "source": [
    "\n",
    "def getMedian(v):\n",
    "    print(v)\n",
    "    v.sort()\n",
    "    print('v.sort():',v)\n",
    "    \n",
    "    vlength = len(v)\n",
    "    print(\"vlength len(v):\", vlength)\n",
    "    if(vlength == 0):\n",
    "        return 0\n",
    "    \n",
    "    print('vlength/2:',type(vlength/2))\n",
    "    vCenter = int(vlength / 2)\n",
    "    print('int(vLength / 2):',type(int(vlength/2)))\n",
    "    \n",
    "    if (vlength % 2 == 1): \n",
    "        return v[vCenter]\n",
    "    else:\n",
    "        return (v[vCenter - 1] + v[vCenter]) / 2.0"
   ]
  },
  {
   "cell_type": "code",
   "execution_count": 26,
   "metadata": {},
   "outputs": [
    {
     "name": "stdout",
     "output_type": "stream",
     "text": [
      "[1, 6, 5, 3]\n",
      "v.sort(): [1, 3, 5, 6]\n",
      "vlength len(v): 4\n",
      "vlength/2: <class 'float'>\n",
      "int(vLength / 2): <class 'int'>\n",
      "4.0\n"
     ]
    }
   ],
   "source": [
    "print(getMedian([1 ,6,5 , 3]))"
   ]
  },
  {
   "cell_type": "code",
   "execution_count": null,
   "metadata": {},
   "outputs": [],
   "source": []
  }
 ],
 "metadata": {
  "kernelspec": {
   "display_name": "Python 3",
   "language": "python",
   "name": "python3"
  },
  "language_info": {
   "codemirror_mode": {
    "name": "ipython",
    "version": 3
   },
   "file_extension": ".py",
   "mimetype": "text/x-python",
   "name": "python",
   "nbconvert_exporter": "python",
   "pygments_lexer": "ipython3",
   "version": "3.6.5"
  }
 },
 "nbformat": 4,
 "nbformat_minor": 2
}
