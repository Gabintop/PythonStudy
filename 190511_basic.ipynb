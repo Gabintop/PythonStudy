{
 "cells": [
  {
   "cell_type": "markdown",
   "metadata": {},
   "source": [
    "## 최댓값, 최소값, 짝홀 구하는 함수 만들기"
   ]
  },
  {
   "cell_type": "code",
   "execution_count": 27,
   "metadata": {},
   "outputs": [
    {
     "data": {
      "text/plain": [
       "\"\\n1. 사용자 정의 함수 개발\\n2.로직\\n    - 최댓값\\n        :데이터 두개를 받아서 두개를 비교후 더 큰수 반환\\n    - 최솟값\\n        :데이터 두개를 받아서 비교후 더 작은수 반환\\n    -짝수? 홀수? 구하기\\n        :짝수인 경우 '짝수', 홀수인 경우 '홀수' 반환\\n    - 팩토리얼\\n        : 하나의 숫자를 받아서 팩토리얼 로직에 맞게 연산후 반환\\n        : 1부터 어떤 양의 정수 n까지의 정수를 모두 곱한것\\n3.총 3개의 함수명\\n    1.최댓값 : max()\\n    2.최솟값 : min()\\n    3.짝홀 : evenOdd()\\n    4.팩토리얼 : factorial()\\n\\n\""
      ]
     },
     "execution_count": 27,
     "metadata": {},
     "output_type": "execute_result"
    }
   ],
   "source": [
    "'''\n",
    "1. 사용자 정의 함수 개발\n",
    "2.로직\n",
    "    - 최댓값\n",
    "        :데이터 두개를 받아서 두개를 비교후 더 큰수 반환\n",
    "    - 최솟값\n",
    "        :데이터 두개를 받아서 비교후 더 작은수 반환\n",
    "    -짝수? 홀수? 구하기\n",
    "        :짝수인 경우 '짝수', 홀수인 경우 '홀수' 반환\n",
    "    - 팩토리얼\n",
    "        : 하나의 숫자를 받아서 팩토리얼 로직에 맞게 연산후 반환\n",
    "        : 1부터 어떤 양의 정수 n까지의 정수를 모두 곱한것\n",
    "3.총 3개의 함수명\n",
    "    1.최댓값 : max()\n",
    "    2.최솟값 : min()\n",
    "    3.짝홀 : evenOdd()\n",
    "    4.팩토리얼 : factorial()\n",
    "\n",
    "'''"
   ]
  },
  {
   "cell_type": "code",
   "execution_count": 28,
   "metadata": {},
   "outputs": [
    {
     "name": "stdout",
     "output_type": "stream",
     "text": [
      "30\n"
     ]
    }
   ],
   "source": [
    "# 사용자 정의 함수 문법\n",
    "def max(v1,v2):\n",
    "    if v1 > v2:\n",
    "        return v1\n",
    "    else:\n",
    "        return v2\n",
    "        \n",
    "    \n",
    "#호출    \n",
    "print(max(10,30))\n"
   ]
  },
  {
   "cell_type": "code",
   "execution_count": 29,
   "metadata": {},
   "outputs": [
    {
     "name": "stdout",
     "output_type": "stream",
     "text": [
      "10\n"
     ]
    }
   ],
   "source": [
    "def min(v1,v2):\n",
    "    if v1 < v2:\n",
    "        return v1\n",
    "    else:\n",
    "        return v2\n",
    "        \n",
    "    \n",
    "#호출    \n",
    "print(min(10,30))\n"
   ]
  },
  {
   "cell_type": "code",
   "execution_count": 30,
   "metadata": {},
   "outputs": [
    {
     "data": {
      "text/plain": [
       "3.0"
      ]
     },
     "execution_count": 30,
     "metadata": {},
     "output_type": "execute_result"
    }
   ],
   "source": [
    "#evenOdd()\n",
    "\n",
    "6/2"
   ]
  },
  {
   "cell_type": "code",
   "execution_count": 31,
   "metadata": {},
   "outputs": [
    {
     "data": {
      "text/plain": [
       "0"
      ]
     },
     "execution_count": 31,
     "metadata": {},
     "output_type": "execute_result"
    }
   ],
   "source": [
    "6%2"
   ]
  },
  {
   "cell_type": "code",
   "execution_count": 32,
   "metadata": {},
   "outputs": [],
   "source": [
    "def evenOdd(v):\n",
    "    if v % 2 == 0:\n",
    "        return (\"짝수\")\n",
    "    else:\n",
    "        return (\"홀수\")\n",
    "    \n",
    "    "
   ]
  },
  {
   "cell_type": "code",
   "execution_count": 33,
   "metadata": {},
   "outputs": [
    {
     "name": "stdout",
     "output_type": "stream",
     "text": [
      "짝수\n"
     ]
    }
   ],
   "source": [
    "print(evenOdd(2));"
   ]
  },
  {
   "cell_type": "code",
   "execution_count": 34,
   "metadata": {},
   "outputs": [
    {
     "name": "stdout",
     "output_type": "stream",
     "text": [
      "홀수\n"
     ]
    }
   ],
   "source": [
    "print(evenOdd(21)); "
   ]
  },
  {
   "cell_type": "code",
   "execution_count": null,
   "metadata": {},
   "outputs": [],
   "source": []
  }
 ],
 "metadata": {
  "kernelspec": {
   "display_name": "Python 3",
   "language": "python",
   "name": "python3"
  },
  "language_info": {
   "codemirror_mode": {
    "name": "ipython",
    "version": 3
   },
   "file_extension": ".py",
   "mimetype": "text/x-python",
   "name": "python",
   "nbconvert_exporter": "python",
   "pygments_lexer": "ipython3",
   "version": "3.6.5"
  }
 },
 "nbformat": 4,
 "nbformat_minor": 2
}
