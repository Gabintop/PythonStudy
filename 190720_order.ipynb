{
 "cells": [
  {
   "cell_type": "code",
   "execution_count": 1,
   "metadata": {},
   "outputs": [],
   "source": [
    "\n",
    "def total(order):\n",
    "    a = '0'\n",
    "    int(a)\n",
    "    for a in order:\n",
    "        if \"떡볶이\" in order:\n",
    "            a = 0 + 3000 \n",
    "        else:\n",
    "            a = 0\n",
    "    b = 0\n",
    "    int(b)\n",
    "    for b in order:\n",
    "        if \"순대\" in order:\n",
    "            b = 0 + 2500 \n",
    "        else: \n",
    "            b = 0\n",
    "    c = 0\n",
    "    int(c)\n",
    "    for c in order:\n",
    "        if \"오뎅\" in order:\n",
    "            c = 0 + 500\n",
    "        else:\n",
    "            c = 0\n",
    "    d = 0\n",
    "    int(d)\n",
    "    for d in order:\n",
    "        if \"주먹밥\" in order:\n",
    "            d = 0 + 4000\n",
    "        else:\n",
    "            d = 0\n",
    "    e = 0\n",
    "    int(e)\n",
    "    for e in order:\n",
    "        if \"음료수\" in order:\n",
    "            e = 0 + 1000 \n",
    "        else:\n",
    "            e = 0\n",
    "    f = 0\n",
    "    int(f)\n",
    "    for f in order:\n",
    "        if \"튀김\" in order:\n",
    "            f = 0 + 2000 \n",
    "        else:\n",
    "            f = 0\n",
    "    g = 0\n",
    "    int(g)\n",
    "    for g in order:\n",
    "        if \"꼬치\" in order:\n",
    "            g = 0 + 1000 \n",
    "        else:\n",
    "            g = 0\n",
    "    total = a + b + c + d + e + f + g\n",
    "\n",
    "    print(total)"
   ]
  },
  {
   "cell_type": "code",
   "execution_count": 2,
   "metadata": {},
   "outputs": [
    {
     "name": "stdout",
     "output_type": "stream",
     "text": [
      "1000\n"
     ]
    }
   ],
   "source": [
    "order1 = {'음료수'}\n",
    "total(order1)"
   ]
  },
  {
   "cell_type": "code",
   "execution_count": null,
   "metadata": {},
   "outputs": [],
   "source": []
  }
 ],
 "metadata": {
  "kernelspec": {
   "display_name": "Python 3",
   "language": "python",
   "name": "python3"
  },
  "language_info": {
   "codemirror_mode": {
    "name": "ipython",
    "version": 3
   },
   "file_extension": ".py",
   "mimetype": "text/x-python",
   "name": "python",
   "nbconvert_exporter": "python",
   "pygments_lexer": "ipython3",
   "version": "3.6.5"
  }
 },
 "nbformat": 4,
 "nbformat_minor": 2
}
